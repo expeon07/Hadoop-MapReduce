{
 "cells": [
  {
   "cell_type": "markdown",
   "metadata": {},
   "source": [
    "# BDCC HW: Task 1"
   ]
  },
  {
   "cell_type": "markdown",
   "metadata": {},
   "source": [
    "Task: Implement a MapReduce job that creates a list of followers for each user in the dataset.\n",
    "\n",
    "Example: the list of followers of user 534 is: [2, 16, 37, 73, 156, 210, 308, 347, 446, 455, 487, 519]."
   ]
  },
  {
   "cell_type": "code",
   "execution_count": 3,
   "metadata": {},
   "outputs": [
    {
     "name": "stdout",
     "output_type": "stream",
     "text": [
      "Overwriting src/task1.py\n"
     ]
    }
   ],
   "source": [
    "%%file src/task1.py\n",
    "#!/usr/bin/env python3\n",
    "\n",
    "from mrjob.job import MRJob\n",
    "\n",
    "\n",
    "# Implement a MapReduce job that creates a list of followers for each user \n",
    "# in the dataset.\n",
    "class Followers(MRJob):\n",
    "\n",
    "    # Arg 1: self: the class itself (this)\n",
    "    # Arg 2: Input key to the map function\n",
    "    # Arg 3: Input value to the map function (one line from the input file)\n",
    "    def mapper(self, _, line):\n",
    "        print(line)\n",
    "        # yield (follower, followee) pair\n",
    "        for follower, followee in line.split():\n",
    "            yield(followee, follower)\n",
    "\n",
    "\n",
    "    # Arg 1: self: the class itself (this)\n",
    "    # Arg 2: Input key to the reduce function (here: the key that was emitted by the mapper)\n",
    "    # Arg 3: Input value to the reduce function (here: a generator object; something like a\n",
    "    # sorted list of ALL values associated with the same key)\n",
    "    def reducer(self, followee, followers):\n",
    "        followers_list = [follower for follower in followers]\n",
    "        yield(followee, followers_list)\n",
    "\n",
    "\n",
    "if __name__ == '__main__':\n",
    "    Followers.run()\n"
   ]
  },
  {
   "cell_type": "markdown",
   "metadata": {},
   "source": [
    "### Run in Standalone Mode"
   ]
  },
  {
   "cell_type": "code",
   "execution_count": 4,
   "metadata": {},
   "outputs": [
    {
     "name": "stdout",
     "output_type": "stream",
     "text": [
      "No configs found; falling back on auto-configuration\n",
      "No configs specified for inline runner\n",
      "Creating temp directory /tmp/task1.bdccuser.20210512.180632.353709\n",
      "Running step 1 of 1...\n",
      "\n",
      "Error while reading from /tmp/task1.bdccuser.20210512.180632.353709/step/000/mapper/00000/input:\n",
      "\n",
      "Traceback (most recent call last):\n",
      "  File \"src/task1.py\", line 30, in <module>\n",
      "    Followers.run()\n",
      "  File \"/home/bdccuser/anaconda3/lib/python3.8/site-packages/mrjob/job.py\", line 616, in run\n",
      "    cls().execute()\n",
      "  File \"/home/bdccuser/anaconda3/lib/python3.8/site-packages/mrjob/job.py\", line 687, in execute\n",
      "    self.run_job()\n",
      "  File \"/home/bdccuser/anaconda3/lib/python3.8/site-packages/mrjob/job.py\", line 636, in run_job\n",
      "    runner.run()\n",
      "  File \"/home/bdccuser/anaconda3/lib/python3.8/site-packages/mrjob/runner.py\", line 503, in run\n",
      "    self._run()\n",
      "  File \"/home/bdccuser/anaconda3/lib/python3.8/site-packages/mrjob/sim.py\", line 161, in _run\n",
      "    self._run_step(step, step_num)\n",
      "  File \"/home/bdccuser/anaconda3/lib/python3.8/site-packages/mrjob/sim.py\", line 170, in _run_step\n",
      "    self._run_streaming_step(step, step_num)\n",
      "  File \"/home/bdccuser/anaconda3/lib/python3.8/site-packages/mrjob/sim.py\", line 181, in _run_streaming_step\n",
      "    self._run_mappers_and_combiners(step_num, map_splits)\n",
      "  File \"/home/bdccuser/anaconda3/lib/python3.8/site-packages/mrjob/sim.py\", line 219, in _run_mappers_and_combiners\n",
      "    self._run_multiple(\n",
      "  File \"/home/bdccuser/anaconda3/lib/python3.8/site-packages/mrjob/sim.py\", line 130, in _run_multiple\n",
      "    func()\n",
      "  File \"/home/bdccuser/anaconda3/lib/python3.8/site-packages/mrjob/sim.py\", line 724, in _run_mapper_and_combiner\n",
      "    run_mapper()\n",
      "  File \"/home/bdccuser/anaconda3/lib/python3.8/site-packages/mrjob/sim.py\", line 746, in _run_task\n",
      "    invoke_task(\n",
      "  File \"/home/bdccuser/anaconda3/lib/python3.8/site-packages/mrjob/inline.py\", line 133, in invoke_task\n",
      "    task.execute()\n",
      "  File \"/home/bdccuser/anaconda3/lib/python3.8/site-packages/mrjob/job.py\", line 675, in execute\n",
      "    self.run_mapper(self.options.step_num)\n",
      "  File \"/home/bdccuser/anaconda3/lib/python3.8/site-packages/mrjob/job.py\", line 760, in run_mapper\n",
      "    for k, v in self.map_pairs(read_lines(), step_num=step_num):\n",
      "  File \"/home/bdccuser/anaconda3/lib/python3.8/site-packages/mrjob/job.py\", line 830, in map_pairs\n",
      "    for k, v in mapper(key, value) or ():\n",
      "  File \"src/task1.py\", line 14, in mapper\n",
      "    print(line)\n",
      "TypeError: a bytes-like object is required, not 'str'\n"
     ]
    }
   ],
   "source": [
    "!python3 src/task1.py data/graph.txt"
   ]
  },
  {
   "cell_type": "markdown",
   "metadata": {},
   "source": [
    "### Run in the Hadoop cluster in a fully/pseudo distributed mode"
   ]
  },
  {
   "cell_type": "code",
   "execution_count": null,
   "metadata": {},
   "outputs": [],
   "source": [
    "!python3 src/task1.py -r hadoop data/shakespear.txt -o task1_output"
   ]
  },
  {
   "cell_type": "markdown",
   "metadata": {},
   "source": [
    "### Copy the output from HDFS to local file system."
   ]
  },
  {
   "cell_type": "code",
   "execution_count": null,
   "metadata": {},
   "outputs": [],
   "source": [
    "!hdfs dfs -copyToLocal task1_output /home/bdccuser/bdcc-assignment1/output/task1"
   ]
  }
 ],
 "metadata": {
  "kernelspec": {
   "display_name": "Python 3",
   "language": "python",
   "name": "python3"
  },
  "language_info": {
   "codemirror_mode": {
    "name": "ipython",
    "version": 3
   },
   "file_extension": ".py",
   "mimetype": "text/x-python",
   "name": "python",
   "nbconvert_exporter": "python",
   "pygments_lexer": "ipython3",
   "version": "3.8.8"
  }
 },
 "nbformat": 4,
 "nbformat_minor": 2
}
